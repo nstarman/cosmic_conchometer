{
 "cells": [
  {
   "cell_type": "code",
   "execution_count": 1,
   "metadata": {},
   "outputs": [],
   "source": [
    "import numpy as np\n",
    "import scipy.special as sp\n",
    "from mpmath import hyp1f2, hyp2f2\n",
    "import mpmath\n",
    "import astropy.units as u\n",
    "import astropy.constants as const\n",
    "from astropy import cosmology\n",
    "\n",
    "from numpy import power, exp, sqrt, pi\n",
    "import matplotlib.pyplot as plt"
   ]
  },
  {
   "cell_type": "markdown",
   "metadata": {},
   "source": [
    "Investivating how $j_n/\\beta$ behaves numerically"
   ]
  },
  {
   "cell_type": "code",
   "execution_count": 3,
   "metadata": {},
   "outputs": [],
   "source": [
    "# sp.spherical_jn(m+1, kthing * 2)"
   ]
  },
  {
   "cell_type": "markdown",
   "metadata": {},
   "source": [
    "${\\cal C}(\\beta\\Delta,\\gamma=\\beta\\Delta,M,m;l)$"
   ]
  },
  {
   "cell_type": "code",
   "execution_count": 136,
   "metadata": {},
   "outputs": [],
   "source": [
    "@np.vectorize\n",
    "def _Cgammathingy(bD, M, m, l):\n",
    "    x = bD*l\n",
    "    t1 = (\n",
    "         exp(1j*x) * sp.spherical_jn(m+1,x) / power(bD, m+1)\n",
    "    )\n",
    "    t2 = sqrt(pi) / power(2,m+2) * power(rhoES, m+1) / sp.gamma(m+2.5)\n",
    "    t3 = (1j*x) / (M+m+2) * hyp2f2(m+2, m+M+2, 2*m+4, m+M+3, 2j * x)\n",
    "    t4 = (2*m**2+6*m-M+5) / (M+m+1) * hyp2f2(m+2,m+M+1, 2*m+4, m+M+2, 2j*x)\n",
    "    \n",
    "    return (t1 - t2 * (t3 - t4))\n",
    "\n",
    "# /def\n",
    "\n",
    "@np.vectorize\n",
    "def Cgammathingy(bD, M, m, l):\n",
    "    \"\"\"Docstring.\n",
    "    \"\"\"\n",
    "\n",
    "    return _Cgammathingy(bD, M, m, rhoES=l+1) - power(l / (l+1), M) _Cgammathingy(bD, M, m, rhoES=l)\n"
   ]
  },
  {
   "cell_type": "code",
   "execution_count": 137,
   "metadata": {},
   "outputs": [
    {
     "data": {
      "text/latex": [
       "$297.43263 \\; \\mathrm{Mpc}$"
      ],
      "text/plain": [
       "<Quantity 297.43263179 Mpc>"
      ]
     },
     "execution_count": 137,
     "metadata": {},
     "output_type": "execute_result"
    }
   ],
   "source": [
    "cosmo = cosmology.Planck18\n",
    "\n",
    "zeq = cosmo.Om0 / cosmo.Ogamma0\n",
    "aeq = 1 / (1 + zeq)\n",
    "lambda0 = (const.c / cosmo.H0 * sqrt(8 * aeq / cosmo.Om0)).to(u.Mpc)\n",
    "lambda0"
   ]
  },
  {
   "cell_type": "code",
   "execution_count": 138,
   "metadata": {},
   "outputs": [
    {
     "data": {
      "text/plain": [
       "1.4230023245628196"
      ]
     },
     "execution_count": 138,
     "metadata": {},
     "output_type": "execute_result"
    }
   ],
   "source": [
    "kmag, thetaks = 1/100 * (cosmo.h/u.Mpc), 45 * u.deg\n",
    "\n",
    "beta = (kmag * lambda0 * np.cos(thetaks)).to_value()\n",
    "beta"
   ]
  },
  {
   "cell_type": "code",
   "execution_count": 153,
   "metadata": {},
   "outputs": [
    {
     "name": "stdout",
     "output_type": "stream",
     "text": [
      "53.545799554020036\n"
     ]
    },
    {
     "data": {
      "text/plain": [
       "1.0709159910804007"
      ]
     },
     "execution_count": 153,
     "metadata": {},
     "output_type": "execute_result"
    }
   ],
   "source": [
    "# rho0 ranges from \n",
    "rho0O = np.sqrt((1 + 1 / aeq) / 2)\n",
    "print(rho0O)\n",
    "N = 50\n",
    "Delta = rho0O / N\n",
    "Delta"
   ]
  },
  {
   "cell_type": "code",
   "execution_count": 154,
   "metadata": {},
   "outputs": [
    {
     "data": {
      "text/plain": [
       "1.523915944718906"
      ]
     },
     "execution_count": 154,
     "metadata": {},
     "output_type": "execute_result"
    }
   ],
   "source": [
    "beta * Delta"
   ]
  },
  {
   "cell_type": "code",
   "execution_count": 140,
   "metadata": {},
   "outputs": [
    {
     "name": "stderr",
     "output_type": "stream",
     "text": [
      "<ipython-input-136-1f42b66f73b1>:5: RuntimeWarning: invalid value encountered in cdouble_scalars\n",
      "  exp(1j*x) * sp.spherical_jn(m+1,x) / power(bD, m+1)\n"
     ]
    },
    {
     "data": {
      "image/png": "[encoded data removed]",
      "text/plain": [
       "<Figure size 576x576 with 1 Axes>"
      ]
     },
     "metadata": {
      "needs_background": "light"
     },
     "output_type": "display_data"
    }
   ],
   "source": [
    "m = 0\n",
    "M = np.linspace(m, m+50)\n",
    "\n",
    "plt.figure(figsize=(8, 8))\n",
    "for L in np.linspace(0, int(rho0O / Delta)-1, num=3):\n",
    "    for bD in np.linspace(0, 20, num=3):\n",
    "        ys = Cgammathingy(bD, M, m, L)\n",
    "        plt.scatter(M, [np.float128(y.real) for y in ys],\n",
    "                    label=f\"l={L}, bD={bD}\",\n",
    "                    alpha=0.5)\n",
    "\n",
    "# plt.yscale(\"log\")\n",
    "plt.legend(loc='lower left', fontsize=10)\n",
    "plt.show();"
   ]
  },
  {
   "cell_type": "code",
   "execution_count": null,
   "metadata": {},
   "outputs": [],
   "source": []
  },
  {
   "cell_type": "code",
   "execution_count": null,
   "metadata": {},
   "outputs": [],
   "source": []
  },
  {
   "cell_type": "code",
   "execution_count": 8,
   "metadata": {},
   "outputs": [
    {
     "name": "stdout",
     "output_type": "stream",
     "text": [
      "CPU times: user 5min 24s, sys: 716 ms, total: 5min 25s\n",
      "Wall time: 5min 26s\n"
     ]
    }
   ],
   "source": [
    "%%time\n",
    "\n",
    "mmin, mmax = 0, 30\n",
    "lmin, lmax = 0, int(rho0O / Delta) - 1\n",
    "Mmin, Mmax = 0, 100  # more derived\n",
    "lgrid, mgrid, Mgrid = np.mgrid[lmin:lmax, mmin:mmax, Mmin:Mmax]\n",
    "\n",
    "Cs = vec_Cgammathingy(beta * Delta, Mgrid, mgrid, lgrid)\n",
    "correctedCs = Cs / sp.factorial(mgrid) / np.power(2, mgrid) / sp.factorial(Mgrid)"
   ]
  },
  {
   "cell_type": "code",
   "execution_count": 195,
   "metadata": {},
   "outputs": [
    {
     "data": {
      "text/plain": [
       "(9, 30, 100)"
      ]
     },
     "execution_count": 195,
     "metadata": {},
     "output_type": "execute_result"
    }
   ],
   "source": [
    "correctedCs.shape"
   ]
  },
  {
   "cell_type": "code",
   "execution_count": 130,
   "metadata": {},
   "outputs": [],
   "source": [
    "np.savez_compressed(\"testsaveC.npz\", correctedCs)"
   ]
  },
  {
   "cell_type": "code",
   "execution_count": 106,
   "metadata": {},
   "outputs": [
    {
     "name": "stdout",
     "output_type": "stream",
     "text": [
      "41.7 ms ± 811 µs per loop (mean ± std. dev. of 7 runs, 10 loops each)\n"
     ]
    }
   ],
   "source": [
    "%%timeit\n",
    "Cgammathingy(beta * Delta, Mmax, mmax, lmax)"
   ]
  },
  {
   "cell_type": "code",
   "execution_count": 165,
   "metadata": {},
   "outputs": [],
   "source": [
    "# x = np.linspace(40, 42, num=10000)\n",
    "\n",
    "# plt.scatter(x, [hyp1f2(10, 5, 6, _x) for _x in x], label=\"10,5,6\")\n",
    "# plt.scatter(x, [hyp1f2(3, 2, 3, _x) for _x in x], label=\"3,2,3\")\n",
    "# plt.yscale(\"log\")"
   ]
  },
  {
   "cell_type": "code",
   "execution_count": 175,
   "metadata": {},
   "outputs": [
    {
     "data": {
      "image/png": "[encoded data removed]",
      "text/plain": [
       "<Figure size 432x288 with 1 Axes>"
      ]
     },
     "metadata": {
      "needs_background": "light"
     },
     "output_type": "display_data"
    }
   ],
   "source": [
    "l = np.arange(0, N-1)\n",
    "x = 2j * beta * Delta * l\n",
    "\n",
    "plt.scatter(np.abs(x), [float(np.abs(hyp2f2(2, 6, 4, 7, _x))) for _x in x], label=\"m,M=0,5\")\n",
    "plt.scatter(np.abs(x), [float(np.abs(hyp2f2(2, 11, 4, 12, _x))) for _x in x], label=\"m,M=0,10\")\n",
    "plt.scatter(np.abs(x), [float(np.abs(hyp2f2(2, 11, 4, 12, _x))) for _x in x], label=\"m,M=0,10\")\n",
    "plt.yscale(\"log\")\n",
    "plt.legend();\n",
    "plt.show()"
   ]
  },
  {
   "cell_type": "code",
   "execution_count": null,
   "metadata": {},
   "outputs": [],
   "source": [
    "l = np.arange(0, N-1)\n",
    "x = 2j * beta * Delta * l\n",
    "\n",
    "plt.scatter(np.abs(x), [float(np.abs(hyp2f2(2, 6, 4, 7, _x))) for _x in x], label=\"m,M=0,5\")\n",
    "plt.scatter(np.abs(x), [float(np.abs(hyp2f2(2, 11, 4, 12, _x))) for _x in x], label=\"m,M=0,10\")\n",
    "plt.yscale(\"log\")\n",
    "plt.legend();\n",
    "plt.show()"
   ]
  },
  {
   "cell_type": "code",
   "execution_count": 181,
   "metadata": {},
   "outputs": [
    {
     "data": {
      "text/plain": [
       "array([mpf('0.010180591324034937'), mpf('0.10733503118127724'),\n",
       "       mpf('0.45261752243769793'), mpf('1.1574707846711176'),\n",
       "       mpf('4.6486293393482372'), mpf('4.7158087116393288'),\n",
       "       mpf('18.177639150353915'), mpf('21.527467485470417'),\n",
       "       mpf('42.791947102628647')], dtype=object)"
      ]
     },
     "execution_count": 181,
     "metadata": {},
     "output_type": "execute_result"
    }
   ],
   "source": [
    "l = np.arange(0, N-1)\n",
    "x = 2j * beta * Delta * l\n",
    "\n",
    "# plt.scatter(np.abs(x), [float(np.abs(hyp2f2(2, 6, 4, 7, _x))) for _x in x], label=\"m,M=0,5\")\n",
    "# plt.scatter(np.abs(x), [float(np.abs(hyp2f2(2, 11, 4, 12, _x))) for _x in x], label=\"m,M=0,10\")\n",
    "# plt.yscale(\"log\")\n",
    "# plt.legend();\n",
    "# plt.show()\n",
    "np.abs(vec_Cgammathingy(beta*Delta, M=5, m=0, l=l))"
   ]
  },
  {
   "cell_type": "code",
   "execution_count": 171,
   "metadata": {},
   "outputs": [
    {
     "data": {
      "image/png": "[encoded data removed]",
      "text/plain": [
       "<Figure size 432x288 with 1 Axes>"
      ]
     },
     "metadata": {
      "needs_background": "light"
     },
     "output_type": "display_data"
    }
   ],
   "source": [
    "x = np.linspace(0, 20, num=1000) * 1j\n",
    "\n",
    "plt.scatter(np.abs(x), [float(np.abs(hyp2f2(10, 18, 5, 6, _x))) for _x in x], label=\"10,5,6\")\n",
    "plt.scatter(np.abs(x), [float(np.abs(hyp2f2(3, 2, 4, 1, _x))) for _x in x], label=\"3,2,3\")\n",
    "plt.yscale(\"log\")\n",
    "plt.legend();\n",
    "plt.show()"
   ]
  },
  {
   "cell_type": "code",
   "execution_count": 166,
   "metadata": {},
   "outputs": [
    {
     "data": {
      "image/png": "[encoded data removed]",
      "text/plain": [
       "<Figure size 432x288 with 1 Axes>"
      ]
     },
     "metadata": {
      "needs_background": "light"
     },
     "output_type": "display_data"
    }
   ],
   "source": [
    "x = np.linspace(0, 100, num=1000) * 1j\n",
    "y = [hyp2f2(10, 18, 5, 6, _x) for _x in x]\n",
    "\n",
    "plt.scatter(np.abs(x), [float(_y.real) for _y in y], label=\"10,5,6 real\")\n",
    "plt.scatter(np.abs(x), [float(_y.imag) for _y in y], label=\"10,5,6 imag\")\n",
    "plt.yscale(\"log\")\n",
    "plt.legend();\n",
    "plt.show()"
   ]
  },
  {
   "cell_type": "code",
   "execution_count": 168,
   "metadata": {},
   "outputs": [
    {
     "data": {
      "image/png": "[encoded data removed]",
      "text/plain": [
       "<Figure size 432x288 with 1 Axes>"
      ]
     },
     "metadata": {
      "needs_background": "light"
     },
     "output_type": "display_data"
    }
   ],
   "source": [
    "x = np.linspace(0, 100, num=1000) * 1j\n",
    "\n",
    "plt.scatter(np.abs(x), [float(mpmath.arg(hyp2f2(10, 18, 5, 6, _x))) for _x in x], label=\"10,5,6\")\n",
    "# plt.yscale(\"log\")\n",
    "plt.legend();\n",
    "plt.show()"
   ]
  },
  {
   "cell_type": "code",
   "execution_count": 157,
   "metadata": {},
   "outputs": [
    {
     "data": {
      "text/plain": [
       "mpf('-1.5685727705847086')"
      ]
     },
     "execution_count": 157,
     "metadata": {},
     "output_type": "execute_result"
    }
   ],
   "source": [
    "x = np.linspace(0, 100, num=1000) * 1j\n",
    "y = [hyp2f2(10, 18, 5, 6, _x) for _x in x]\n",
    "\n",
    "plt.scatter(np.abs(x), [float(mpmath.arg(hyp2f2(10, 18, 5, 6, _x))) for _x in x], label=\"10,5,6\")\n",
    "# plt.yscale(\"log\")\n",
    "plt.legend();\n",
    "plt.show()"
   ]
  },
  {
   "cell_type": "code",
   "execution_count": null,
   "metadata": {},
   "outputs": [],
   "source": [
    "mpmath.atan2()"
   ]
  }
 ],
 "metadata": {
  "kernelspec": {
   "display_name": "Python 3",
   "language": "python",
   "name": "python3"
  },
  "language_info": {
   "codemirror_mode": {
    "name": "ipython",
    "version": 3
   },
   "file_extension": ".py",
   "mimetype": "text/x-python",
   "name": "python",
   "nbconvert_exporter": "python",
   "pygments_lexer": "ipython3",
   "version": "3.8.2"
  }
 },
 "nbformat": 4,
 "nbformat_minor": 4
}
