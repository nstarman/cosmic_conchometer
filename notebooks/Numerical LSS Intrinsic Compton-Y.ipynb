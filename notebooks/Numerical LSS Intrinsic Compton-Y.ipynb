{
 "cells": [
  {
   "cell_type": "markdown",
   "metadata": {},
   "source": [
    "# LSS Intrinsic Compton-Y"
   ]
  },
  {
   "cell_type": "code",
   "execution_count": 1,
   "metadata": {
    "collapsed": false,
    "inputHidden": false,
    "jupyter": {
     "outputs_hidden": false
    },
    "outputHidden": false
   },
   "outputs": [],
   "source": [
    "\"\"\"\n",
    "    TITLE   : Calculating the Spectral Distortions\n",
    "    PROJECT : Cosmic Conchometer\n",
    "\"\"\"\n",
    "\n",
    "__author__ = \"Nathaniel Starkman\""
   ]
  },
  {
   "cell_type": "markdown",
   "metadata": {},
   "source": [
    "<span style='font-size:30px;font-weight:650'>\n",
    "    About\n",
    "</span>\n",
    "\n",
    "\n"
   ]
  },
  {
   "cell_type": "markdown",
   "metadata": {},
   "source": [
    "<br><br>\n",
    "\n",
    "- - - \n"
   ]
  },
  {
   "cell_type": "markdown",
   "metadata": {},
   "source": [
    "## Prepare"
   ]
  },
  {
   "cell_type": "markdown",
   "metadata": {
    "inputHidden": false,
    "outputHidden": false
   },
   "source": [
    "### Imports"
   ]
  },
  {
   "cell_type": "code",
   "execution_count": 131,
   "metadata": {
    "collapsed": false,
    "inputHidden": false,
    "jupyter": {
     "outputs_hidden": false
    },
    "outputHidden": false
   },
   "outputs": [],
   "source": [
    "# BUILT-IN\n",
    "import configparser\n",
    "import typing as T\n",
    "\n",
    "# THIRD PARTY\n",
    "import matplotlib.pyplot as plt\n",
    "from astropy import cosmology\n",
    "from classy import Class\n",
    "from scipy.interpolate import InterpolatedUnivariateSpline as IUS\n",
    "\n",
    "# PROJECT-SPECIFIC\n",
    "import cosmic_conchometer as cc"
   ]
  },
  {
   "cell_type": "markdown",
   "metadata": {},
   "source": [
    "## Parameters"
   ]
  },
  {
   "cell_type": "markdown",
   "metadata": {},
   "source": [
    "### CLASS computations"
   ]
  },
  {
   "cell_type": "code",
   "execution_count": 3,
   "metadata": {},
   "outputs": [],
   "source": [
    "config = configparser.ConfigParser()\n",
    "config.optionxform = str\n",
    "config.read(\"input/parameters.ini\")\n",
    "\n",
    "params = cc.utils.flatten_dict(config._sections.copy())"
   ]
  },
  {
   "cell_type": "code",
   "execution_count": 4,
   "metadata": {},
   "outputs": [
    {
     "ename": "CosmoSevereError",
     "evalue": "\n\nError in Class: Class did not read input parameter(s): background parameters\n",
     "output_type": "error",
     "traceback": [
      "\u001b[0;31m---------------------------------------------------------------------------\u001b[0m",
      "\u001b[0;31mCosmoSevereError\u001b[0m                          Traceback (most recent call last)",
      "\u001b[0;32m<ipython-input-4-c1878bda6e1e>\u001b[0m in \u001b[0;36m<module>\u001b[0;34m\u001b[0m\n\u001b[1;32m      9\u001b[0m \u001b[0;31m# This is equivalent to the beginning of the `main` routine of CLASS,\u001b[0m\u001b[0;34m\u001b[0m\u001b[0;34m\u001b[0m\u001b[0;34m\u001b[0m\u001b[0m\n\u001b[1;32m     10\u001b[0m \u001b[0;31m# with all the struct_init() methods called.\u001b[0m\u001b[0;34m\u001b[0m\u001b[0;34m\u001b[0m\u001b[0;34m\u001b[0m\u001b[0m\n\u001b[0;32m---> 11\u001b[0;31m \u001b[0mclass_cosmo\u001b[0m\u001b[0;34m.\u001b[0m\u001b[0mcompute\u001b[0m\u001b[0;34m(\u001b[0m\u001b[0;34m)\u001b[0m\u001b[0;34m\u001b[0m\u001b[0;34m\u001b[0m\u001b[0m\n\u001b[0m\u001b[1;32m     12\u001b[0m \u001b[0;34m\u001b[0m\u001b[0m\n\u001b[1;32m     13\u001b[0m \u001b[0;31m# thermodynamics\u001b[0m\u001b[0;34m\u001b[0m\u001b[0;34m\u001b[0m\u001b[0;34m\u001b[0m\u001b[0m\n",
      "\u001b[0;32mclassy.pyx\u001b[0m in \u001b[0;36mclassy.Class.compute\u001b[0;34m()\u001b[0m\n",
      "\u001b[0;31mCosmoSevereError\u001b[0m: \n\nError in Class: Class did not read input parameter(s): background parameters\n"
     ]
    }
   ],
   "source": [
    "# Create an instance of the CLASS wrapper\n",
    "class_cosmo = Class()\n",
    "# Set the parameters to the cosmological code\n",
    "class_cosmo.set(params)\n",
    "# Run the whole code. Depending on your output, it will call the\n",
    "# CLASS modules more or less fast. For instance, without any\n",
    "# output asked, CLASS will only compute background quantities,\n",
    "# thus running almost instantaneously.\n",
    "# This is equivalent to the beginning of the `main` routine of CLASS,\n",
    "# with all the struct_init() methods called.\n",
    "class_cosmo.compute()\n",
    "\n",
    "# thermodynamics\n",
    "thermo = class_cosmo.get_thermodynamics()"
   ]
  },
  {
   "cell_type": "markdown",
   "metadata": {},
   "source": [
    "# Cosmology\n",
    "\n",
    "TODO make cosmology the same as CLASS cosmology or vice versa"
   ]
  },
  {
   "cell_type": "code",
   "execution_count": null,
   "metadata": {},
   "outputs": [],
   "source": [
    "cosmology.default_cosmology.set(\"Planck18\")\n",
    "cosmo = cosmology.default_cosmology.get()\n",
    "cosmo"
   ]
  },
  {
   "cell_type": "markdown",
   "metadata": {},
   "source": [
    "Basic quantities"
   ]
  },
  {
   "cell_type": "markdown",
   "metadata": {},
   "source": [
    "<br><br>\n",
    "\n",
    "- - - \n"
   ]
  },
  {
   "cell_type": "markdown",
   "metadata": {},
   "source": [
    "## Code"
   ]
  },
  {
   "cell_type": "markdown",
   "metadata": {},
   "source": [
    "<br><br>\n",
    "\n",
    "- - - \n",
    "\n",
    "<span style='font-size:40px;font-weight:650'>\n",
    "    END\n",
    "</span>"
   ]
  },
  {
   "cell_type": "code",
   "execution_count": 45,
   "metadata": {},
   "outputs": [],
   "source": [
    "import numpy as np\n",
    "from astropy.utils.data import get_pkg_data_filename\n",
    "from mpmath import mp\n",
    "import matplotlib.pyplot as plt"
   ]
  },
  {
   "cell_type": "code",
   "execution_count": 46,
   "metadata": {},
   "outputs": [
    {
     "data": {
      "text/plain": [
       "(50, 30, 100)"
      ]
     },
     "execution_count": 46,
     "metadata": {},
     "output_type": "execute_result"
    }
   ],
   "source": [
    "scriptCgamma = np.load(get_pkg_data_filename(\"data/scriptC_nogam/scriptCnogam_comp-1_5.npy\", package=\"cosmic_conchometer\"), allow_pickle=True)\n",
    "scriptCgamma.shape"
   ]
  },
  {
   "cell_type": "code",
   "execution_count": 47,
   "metadata": {},
   "outputs": [
    {
     "name": "stdout",
     "output_type": "stream",
     "text": [
      "C(0, 0, 0) = 1.81163291457464, 1.81163291457464\n",
      "C(0, 0, 99) = 0.0146695338055372, 0.0146695338055372\n",
      "C(0, 29, 0) = 3.47812867028077e-41, 0.0\n",
      "C(0, 29, 99) = 8.08183700918228e-42, 0.0\n",
      "C(8, 0, 0) = -0.00449882107780075, -0.00449882107780075\n",
      "C(8, 0, 99) = 0.00381962046224921, 0.00381962046224921\n",
      "C(8, 29, 0) = 3.6115514896858e-13, 104095.884436341\n",
      "C(8, 29, 99) = 8.10740501570124e-14, 23368.0039728984\n"
     ]
    }
   ],
   "source": [
    "def scriptC(L, m=None, M=None):\n",
    "    m = slice(None,None,None) if m is None else m\n",
    "    M = slice(None,None,None) if M is None else M\n",
    "    return scriptCgamma[L+1, m, M] - mp.power(L / (L + 1), M) * scriptCgamma[L, m, M]\n",
    "\n",
    "for L in (0, 8):\n",
    "    for m in (0, 29):\n",
    "        for M in (0, 99):\n",
    "            print(f\"C({L}, {m}, {M}) = {scriptC(L, m, M)}, {mp.power(L,m*2/3) * scriptC(L, m, M)}\")"
   ]
  },
  {
   "cell_type": "code",
   "execution_count": 51,
   "metadata": {},
   "outputs": [
    {
     "data": {
      "text/plain": [
       "Text(0.5, 0, 'm')"
      ]
     },
     "execution_count": 51,
     "metadata": {},
     "output_type": "execute_result"
    },
    {
     "data": {
      "image/png": "[encoded data removed]",
      "text/plain": [
       "<Figure size 432x288 with 1 Axes>"
      ]
     },
     "metadata": {
      "needs_background": "light"
     },
     "output_type": "display_data"
    }
   ],
   "source": [
    "mm = np.arange(0, 29)\n",
    "\n",
    "plt.scatter(mm, list(map(lambda m: np.abs(scriptCgamma[0+1, m, 99]), mm)), label=\"L=0, M=99\")\n",
    "plt.scatter(mm, list(map(lambda m: np.abs(scriptCgamma[0+1, m, 50]), mm)), label=\"L=0, M=50\")\n",
    "\n",
    "plt.scatter(mm, list(map(lambda m: np.abs(scriptCgamma[1+1, m, 99]), mm)), label=\"L=1, M=99\")\n",
    "plt.scatter(mm, list(map(lambda m: np.abs(scriptCgamma[1+1, m, 50]), mm)), label=\"L=1, M=50\")\n",
    "\n",
    "plt.scatter(mm, list(map(lambda m: np.abs(scriptCgamma[2+1, m, 99]), mm)), label=\"L=2, M=99\")\n",
    "plt.scatter(mm, list(map(lambda m: np.abs(scriptCgamma[2+1, m, 50]), mm)), label=\"L=2, M=50\")\n",
    "\n",
    "plt.scatter(mm, list(map(lambda m: np.abs(scriptCgamma[8+1, m, 99]), mm)), label=\"L=8, M=99\")\n",
    "plt.scatter(mm, list(map(lambda m: np.abs(scriptCgamma[8+1, m, 50]), mm)), label=\"L=8, M=50\")\n",
    "# plt.legend()\n",
    "plt.yscale(\"log\")\n",
    "plt.xlabel(\"m\")"
   ]
  },
  {
   "cell_type": "code",
   "execution_count": 11,
   "metadata": {},
   "outputs": [
    {
     "data": {
      "text/plain": [
       "Text(0.5, 0, 'm')"
      ]
     },
     "execution_count": 11,
     "metadata": {},
     "output_type": "execute_result"
    },
    {
     "data": {
      "image/png": "[encoded data removed]",
      "text/plain": [
       "<Figure size 432x288 with 1 Axes>"
      ]
     },
     "metadata": {
      "needs_background": "light"
     },
     "output_type": "display_data"
    }
   ],
   "source": [
    "mm = np.arange(0, 29)\n",
    "\n",
    "plt.scatter(mm, list(map(lambda m: mp.power(8,m) * mp.power(4,.5*m) * np.abs(scriptC(0, m, 99)), mm)), label=\"L=0, M=99\")\n",
    "plt.scatter(mm, list(map(lambda m: mp.power(8,m) * mp.power(4,.5*m) * np.abs(scriptC(0, m, 50)), mm)), label=\"L=0, M=50\")\n",
    "\n",
    "plt.scatter(mm, list(map(lambda m: mp.power(8,m) * np.abs(scriptC(1, m, 99)), mm)), label=\"L=1, M=99\")\n",
    "plt.scatter(mm, list(map(lambda m: mp.power(8,m) * np.abs(scriptC(1, m, 50)), mm)), label=\"L=1, M=50\")\n",
    "\n",
    "plt.scatter(mm, list(map(lambda m: mp.power(8,m) * np.abs(scriptC(2, m, 99)), mm)), label=\"L=2, M=99\")\n",
    "plt.scatter(mm, list(map(lambda m: mp.power(8,m) * np.abs(scriptC(2, m, 50)), mm)), label=\"L=2, M=50\")\n",
    "\n",
    "plt.scatter(mm, list(map(lambda m: mp.power(8,m) * np.abs(scriptC(8, m, 99)), mm)), label=\"L=8, M=99\")\n",
    "plt.scatter(mm, list(map(lambda m: mp.power(8,m) * np.abs(scriptC(8, m, 50)), mm)), label=\"L=8, M=50\")\n",
    "plt.legend()\n",
    "plt.yscale(\"log\")\n",
    "plt.xlabel(\"m\")"
   ]
  },
  {
   "cell_type": "code",
   "execution_count": null,
   "metadata": {},
   "outputs": [],
   "source": []
  }
 ],
 "metadata": {
  "kernel_info": {
   "name": "utilipy"
  },
  "kernelspec": {
   "display_name": "cosmo",
   "language": "python",
   "name": "cosmo"
  },
  "language_info": {
   "codemirror_mode": {
    "name": "ipython",
    "version": 3
   },
   "file_extension": ".py",
   "mimetype": "text/x-python",
   "name": "python",
   "nbconvert_exporter": "python",
   "pygments_lexer": "ipython3",
   "version": "3.6.10"
  },
  "nteract": {
   "version": "0.23.3"
  }
 },
 "nbformat": 4,
 "nbformat_minor": 4
}
