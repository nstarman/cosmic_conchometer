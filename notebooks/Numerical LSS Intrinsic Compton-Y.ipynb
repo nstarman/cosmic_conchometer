{
  "cells": [
    {
      "cell_type": "markdown",
      "source": [
        "# LSS Intrinsic Compton-Y"
      ],
      "metadata": {}
    },
    {
      "cell_type": "code",
      "source": [
        "\"\"\"\n",
        "    TITLE   : Calculating the Spectral Distortions\n",
        "    PROJECT : Cosmic Conchometer\n",
        "\"\"\"\n",
        "\n",
        "__author__ = \"Nathaniel Starkman\""
      ],
      "outputs": [],
      "execution_count": 1,
      "metadata": {
        "collapsed": false,
        "inputHidden": false,
        "jupyter": {
          "outputs_hidden": false
        },
        "outputHidden": false
      }
    },
    {
      "cell_type": "markdown",
      "source": [
        "<span style='font-size:30px;font-weight:650'>\n",
        "    About\n",
        "</span>\n",
        "\n",
        "\n"
      ],
      "metadata": {}
    },
    {
      "cell_type": "markdown",
      "source": [
        "<br><br>\n",
        "\n",
        "- - - \n"
      ],
      "metadata": {}
    },
    {
      "cell_type": "markdown",
      "source": [
        "## Prepare"
      ],
      "metadata": {}
    },
    {
      "cell_type": "markdown",
      "source": [
        "### Imports"
      ],
      "metadata": {
        "inputHidden": false,
        "outputHidden": false
      }
    },
    {
      "cell_type": "code",
      "source": [
        "# BUILT-IN\n",
        "import configparser\n",
        "import typing as T\n",
        "\n",
        "# THIRD PARTY\n",
        "import matplotlib.pyplot as plt\n",
        "from astropy import cosmology\n",
        "from classy import Class\n",
        "from scipy.interpolate import InterpolatedUnivariateSpline as IUS\n",
        "\n",
        "# PROJECT-SPECIFIC\n",
        "import cosmic_conchometer as cc"
      ],
      "outputs": [],
      "execution_count": 131,
      "metadata": {
        "collapsed": false,
        "inputHidden": false,
        "jupyter": {
          "outputs_hidden": false
        },
        "outputHidden": false
      }
    },
    {
      "cell_type": "markdown",
      "source": [
        "## Parameters"
      ],
      "metadata": {}
    },
    {
      "cell_type": "markdown",
      "source": [
        "### CLASS computations"
      ],
      "metadata": {}
    },
    {
      "cell_type": "code",
      "source": [
        "config = configparser.ConfigParser()\n",
        "config.optionxform = str\n",
        "config.read(\"input/parameters.ini\")\n",
        "\n",
        "params = cc.utils.flatten_dict(config._sections.copy())"
      ],
      "outputs": [],
      "execution_count": 3,
      "metadata": {}
    },
    {
      "cell_type": "code",
      "source": [
        "# Create an instance of the CLASS wrapper\n",
        "class_cosmo = Class()\n",
        "# Set the parameters to the cosmological code\n",
        "class_cosmo.set(params)\n",
        "# Run the whole code. Depending on your output, it will call the\n",
        "# CLASS modules more or less fast. For instance, without any\n",
        "# output asked, CLASS will only compute background quantities,\n",
        "# thus running almost instantaneously.\n",
        "# This is equivalent to the beginning of the `main` routine of CLASS,\n",
        "# with all the struct_init() methods called.\n",
        "class_cosmo.compute()\n",
        "\n",
        "# thermodynamics\n",
        "thermo = class_cosmo.get_thermodynamics()"
      ],
      "outputs": [
        {
          "output_type": "error",
          "ename": "CosmoSevereError",
          "evalue": "\n\nError in Class: Class did not read input parameter(s): background parameters\n",
          "traceback": [
            "\u001b[0;31m---------------------------------------------------------------------------\u001b[0m",
            "\u001b[0;31mCosmoSevereError\u001b[0m                          Traceback (most recent call last)",
            "\u001b[0;32m<ipython-input-4-c1878bda6e1e>\u001b[0m in \u001b[0;36m<module>\u001b[0;34m\u001b[0m\n\u001b[1;32m      9\u001b[0m \u001b[0;31m# This is equivalent to the beginning of the `main` routine of CLASS,\u001b[0m\u001b[0;34m\u001b[0m\u001b[0;34m\u001b[0m\u001b[0;34m\u001b[0m\u001b[0m\n\u001b[1;32m     10\u001b[0m \u001b[0;31m# with all the struct_init() methods called.\u001b[0m\u001b[0;34m\u001b[0m\u001b[0;34m\u001b[0m\u001b[0;34m\u001b[0m\u001b[0m\n\u001b[0;32m---> 11\u001b[0;31m \u001b[0mclass_cosmo\u001b[0m\u001b[0;34m.\u001b[0m\u001b[0mcompute\u001b[0m\u001b[0;34m(\u001b[0m\u001b[0;34m)\u001b[0m\u001b[0;34m\u001b[0m\u001b[0;34m\u001b[0m\u001b[0m\n\u001b[0m\u001b[1;32m     12\u001b[0m \u001b[0;34m\u001b[0m\u001b[0m\n\u001b[1;32m     13\u001b[0m \u001b[0;31m# thermodynamics\u001b[0m\u001b[0;34m\u001b[0m\u001b[0;34m\u001b[0m\u001b[0;34m\u001b[0m\u001b[0m\n",
            "\u001b[0;32mclassy.pyx\u001b[0m in \u001b[0;36mclassy.Class.compute\u001b[0;34m()\u001b[0m\n",
            "\u001b[0;31mCosmoSevereError\u001b[0m: \n\nError in Class: Class did not read input parameter(s): background parameters\n"
          ]
        }
      ],
      "execution_count": 4,
      "metadata": {}
    },
    {
      "cell_type": "markdown",
      "source": [
        "# Cosmology\n",
        "\n",
        "TODO make cosmology the same as CLASS cosmology or vice versa"
      ],
      "metadata": {}
    },
    {
      "cell_type": "code",
      "source": [
        "cosmology.default_cosmology.set(\"Planck18\")\n",
        "cosmo = cosmology.default_cosmology.get()\n",
        "cosmo"
      ],
      "outputs": [],
      "execution_count": null,
      "metadata": {}
    },
    {
      "cell_type": "markdown",
      "source": [
        "Basic quantities"
      ],
      "metadata": {}
    },
    {
      "cell_type": "markdown",
      "source": [
        "<br><br>\n",
        "\n",
        "- - - \n"
      ],
      "metadata": {}
    },
    {
      "cell_type": "markdown",
      "source": [
        "## Code"
      ],
      "metadata": {}
    },
    {
      "cell_type": "markdown",
      "source": [
        "<br><br>\n",
        "\n",
        "- - - \n",
        "\n",
        "<span style='font-size:40px;font-weight:650'>\n",
        "    END\n",
        "</span>"
      ],
      "metadata": {}
    }
  ],
  "metadata": {
    "kernel_info": {
      "name": "utilipy"
    },
    "kernelspec": {
      "display_name": "cosmo",
      "language": "python",
      "name": "cosmo"
    },
    "language_info": {
      "codemirror_mode": {
        "name": "ipython",
        "version": 3
      },
      "file_extension": ".py",
      "mimetype": "text/x-python",
      "name": "python",
      "nbconvert_exporter": "python",
      "pygments_lexer": "ipython3",
      "version": "3.6.10"
    },
    "nteract": {
      "version": "0.28.0"
    }
  },
  "nbformat": 4,
  "nbformat_minor": 4
}
