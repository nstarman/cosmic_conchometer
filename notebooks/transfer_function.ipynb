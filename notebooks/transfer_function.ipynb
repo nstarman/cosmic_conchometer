{
 "cells": [
  {
   "cell_type": "markdown",
   "id": "eba70134-bd92-4fcb-bbb4-3f95d0cba37e",
   "metadata": {},
   "source": [
    "The transfer function"
   ]
  },
  {
   "cell_type": "markdown",
   "id": "0f33b4cf-1ec8-4a3c-92dd-bc71160d18f5",
   "metadata": {},
   "source": [
    "TODO! compare against https://camb.readthedocs.io/en/latest/camb.html#camb.get_transfer_functions"
   ]
  },
  {
   "cell_type": "code",
   "execution_count": 1,
   "id": "69bff760-0782-4089-87d3-c23dc9966db9",
   "metadata": {},
   "outputs": [],
   "source": [
    "%matplotlib ipympl\n",
    "# %matplotlib inline"
   ]
  },
  {
   "cell_type": "code",
   "execution_count": 2,
   "id": "bcf9fcc4-93a6-4d9f-8776-4cca11ed9b65",
   "metadata": {},
   "outputs": [
    {
     "data": {
      "text/plain": [
       "<astropy.visualization.units.quantity_support.<locals>.MplQuantityConverter at 0x7fe7246f46d0>"
      ]
     },
     "execution_count": 2,
     "metadata": {},
     "output_type": "execute_result"
    }
   ],
   "source": [
    "import numpy as np\n",
    "from numpy import sqrt, exp, log, sin, cos, power\n",
    "import scipy.integrate as integ\n",
    "from scipy.interpolate import UnivariateSpline, InterpolatedUnivariateSpline\n",
    "import functools\n",
    "\n",
    "import astropy.constants as const\n",
    "import astropy.units as u\n",
    "from astropy.cosmology import Planck18\n",
    "from astropy.cosmology.core import Cosmology\n",
    "from astropy.visualization import quantity_support\n",
    "\n",
    "import matplotlib.pyplot as plt\n",
    "\n",
    "from cosmic_conchometer.boltzmann import husugiyama95\n",
    "from cosmic_conchometer.boltzmann.husugiyama95 import TransferFunctionHuSugiyama1995Theta0  # Theta0hatSSFixedR, Theta0hatLSFixedR\n",
    "from cosmic_conchometer.utils import distances\n",
    "\n",
    "quantity_support()"
   ]
  },
  {
   "cell_type": "code",
   "execution_count": 3,
   "id": "334f8101-d6ed-43a0-be28-9fcfed1158dc",
   "metadata": {},
   "outputs": [],
   "source": [
    "zeq = distances.z_matter_radiation_equality(Planck18)\n",
    "a = (1 + zeq) / 1101  # double check!"
   ]
  },
  {
   "cell_type": "code",
   "execution_count": 4,
   "id": "1dbaccea-0c85-4eb3-82d9-2d8ca9fb4402",
   "metadata": {},
   "outputs": [],
   "source": [
    "from scipy.interpolate import Akima1DInterpolator, PchipInterpolator"
   ]
  },
  {
   "cell_type": "code",
   "execution_count": 5,
   "id": "7e3506a7-643a-4f0a-a916-19f27d42b1cd",
   "metadata": {},
   "outputs": [
    {
     "name": "stdout",
     "output_type": "stream",
     "text": [
      "CPU times: user 9.05 s, sys: 190 ms, total: 9.24 s\n",
      "Wall time: 9.49 s\n"
     ]
    }
   ],
   "source": [
    "%%time\n",
    "Theta0 = TransferFunctionHuSugiyama1995Theta0(Planck18, a=1 / (1 + 1100),\n",
    "                                              As=1e-10 * np.exp(3.04) * u.K**2,\n",
    "                                              knum=int(1e5),\n",
    "                                              krange=(1e-4, 0.03, 100.0) / u.Mpc,\n",
    "                                              integ_kw=dict(limit=400, epsabs=2e-7, epsrel=5e-29),\n",
    "                                              lgkwindow=0.1,\n",
    "                                              _interp_fn=PchipInterpolator)"
   ]
  },
  {
   "cell_type": "code",
   "execution_count": 6,
   "id": "99ba76ed-942f-4c30-a4f3-4e38d47f3386",
   "metadata": {},
   "outputs": [],
   "source": [
    "# lgk, th0 = Theta0._lgk, Theta0._th0"
   ]
  },
  {
   "cell_type": "code",
   "execution_count": 7,
   "id": "e39f1f05-a490-466b-a36d-47ea7d052a23",
   "metadata": {},
   "outputs": [
    {
     "data": {
      "application/vnd.jupyter.widget-view+json": {
       "model_id": "dbcdc7edcc894f259ed4e0340cc1706a",
       "version_major": 2,
       "version_minor": 0
      },
      "text/plain": [
       "Canvas(toolbar=Toolbar(toolitems=[('Home', 'Reset original view', 'home', 'home'), ('Back', 'Back to previous …"
      ]
     },
     "metadata": {},
     "output_type": "display_data"
    },
    {
     "name": "stderr",
     "output_type": "stream",
     "text": [
      "<ipython-input-7-6063645686f8>:10: RuntimeWarning: divide by zero encountered in log10\n",
      "  th0adj = np.log10(np.abs(th0)) * lgk.value ** 2\n"
     ]
    }
   ],
   "source": [
    "fig = plt.figure(figsize=(8, 3))\n",
    "ax = fig.add_subplot(111)\n",
    "\n",
    "lgk = (Theta0._lgk.to(1/u.Mpc) + 0.001 / u.Mpc).to(u.dex(1/u.Mpc))  # offset from ticks\n",
    "th0 = Theta0(lgk)\n",
    "\n",
    "lowk = lgk < Theta0._kcross\n",
    "highk = ~lowk\n",
    "\n",
    "th0adj = np.log10(np.abs(th0)) * lgk.value ** 2\n",
    "\n",
    "th0adj2 = np.sign(th0[highk]) * np.power(\n",
    "    np.abs(th0[highk]),\n",
    "    lgk[highk].value ** 2,\n",
    ")\n",
    "\n",
    "# ax.scatter(lgk.value[highk], th0adj2, s=1)\n",
    "ax.plot(lgk.value[highk], th0adj2)\n",
    "ax.axhline(0, c=\"k\", ls=\":\")\n",
    "ax.axvline(Theta0._lgk_zerox.value, c=\"k\", ls=\":\")\n",
    "plt.show();"
   ]
  },
  {
   "cell_type": "code",
   "execution_count": 8,
   "id": "05ab03ae-2e6b-44a1-b1b9-363246309c3d",
   "metadata": {},
   "outputs": [],
   "source": [
    "# fig = plt.figure(figsize=(8, 3))\n",
    "# ax = fig.add_subplot(111)\n",
    "\n",
    "# th0adj2 = np.sign(th0[zerox_idx:]) * np.power(np.abs(th0), lgk.value ** 2)[zerox_idx:]\n",
    "\n",
    "# ax.scatter(lgk[zerox_idx:], th0adj2, s=1)\n",
    "# ax.plot(lgk[zerox_idx:], Theta0._fithighk(lgk[zerox_idx:]), c=\"k\")\n",
    "# plt.show();"
   ]
  },
  {
   "cell_type": "code",
   "execution_count": 9,
   "id": "b41d886f-1cc6-4adc-b4d9-ad08fdde2d9b",
   "metadata": {},
   "outputs": [
    {
     "data": {
      "application/vnd.jupyter.widget-view+json": {
       "model_id": "3a26b3efdeca452785a0651b661d12fa",
       "version_major": 2,
       "version_minor": 0
      },
      "text/plain": [
       "Canvas(toolbar=Toolbar(toolitems=[('Home', 'Reset original view', 'home', 'home'), ('Back', 'Back to previous …"
      ]
     },
     "metadata": {},
     "output_type": "display_data"
    }
   ],
   "source": [
    "Theta0.plot_theta0hat(fit=True, s=1)\n",
    "\n",
    "# k = (10**lgk) / u.Mpc\n",
    "# plt.plot(k, Theta0._signk(lgk) / 100)\n",
    "\n",
    "plt.axhline(0, c=\"k\")\n",
    "plt.axvline(Theta0._kcross.value)\n",
    "plt.show();"
   ]
  },
  {
   "cell_type": "code",
   "execution_count": 10,
   "id": "23744869-788c-4784-af2b-3c4560ef98f2",
   "metadata": {},
   "outputs": [
    {
     "data": {
      "application/vnd.jupyter.widget-view+json": {
       "model_id": "4f2e261806964d339446d53bae1a6d8a",
       "version_major": 2,
       "version_minor": 0
      },
      "text/plain": [
       "Canvas(toolbar=Toolbar(toolitems=[('Home', 'Reset original view', 'home', 'home'), ('Back', 'Back to previous …"
      ]
     },
     "metadata": {},
     "output_type": "display_data"
    }
   ],
   "source": [
    "fig = plt.figure()\n",
    "ax = fig.add_subplot(xscale=\"log\", yscale=\"symlog\",)\n",
    "plt.plot(Theta0._lgk.to(1 / u.Mpc),\n",
    "         Theta0(Theta0._lgk.to(1/u.Mpc) + 0.001 / u.Mpc))\n",
    "plt.show()"
   ]
  },
  {
   "cell_type": "code",
   "execution_count": null,
   "id": "514651ed-c088-482c-ba5d-aee9f78eda5a",
   "metadata": {},
   "outputs": [],
   "source": []
  },
  {
   "cell_type": "code",
   "execution_count": null,
   "id": "62e20983-26ec-4cbe-a917-7e7cc16b5a33",
   "metadata": {},
   "outputs": [],
   "source": []
  }
 ],
 "metadata": {
  "kernelspec": {
   "display_name": "cosmo",
   "language": "python",
   "name": "cosmo"
  },
  "language_info": {
   "codemirror_mode": {
    "name": "ipython",
    "version": 3
   },
   "file_extension": ".py",
   "mimetype": "text/x-python",
   "name": "python",
   "nbconvert_exporter": "python",
   "pygments_lexer": "ipython3",
   "version": "3.8.12"
  },
  "widgets": {
   "application/vnd.jupyter.widget-state+json": {
    "state": {
     "01fa261bc8594b9bba1e0b95ea82edb1": {
      "model_module": "@jupyter-widgets/base",
      "model_module_version": "1.2.0",
      "model_name": "LayoutModel",
      "state": {}
     },
     "193fc9e6daa84a0088356c6c26db8a0b": {
      "model_module": "@jupyter-widgets/base",
      "model_module_version": "1.2.0",
      "model_name": "LayoutModel",
      "state": {}
     },
     "220566d904c1474b9b57f203cbbe6520": {
      "model_module": "@jupyter-widgets/base",
      "model_module_version": "1.2.0",
      "model_name": "LayoutModel",
      "state": {}
     },
     "23d077d3a86740038e494bdce7917590": {
      "model_module": "@jupyter-widgets/base",
      "model_module_version": "1.2.0",
      "model_name": "LayoutModel",
      "state": {}
     },
     "3a26b3efdeca452785a0651b661d12fa": {
      "model_module": "jupyter-matplotlib",
      "model_module_version": "^0.9.0",
      "model_name": "MPLCanvasModel",
      "state": {
       "_cursor": "default",
       "_figure_label": "Figure 2",
       "_height": 480,
       "_width": 640,
       "layout": "IPY_MODEL_01fa261bc8594b9bba1e0b95ea82edb1",
       "toolbar": "IPY_MODEL_653a7705d6a04318b2e5c63c64ffbf04",
       "toolbar_position": "left"
      }
     },
     "4f2e261806964d339446d53bae1a6d8a": {
      "model_module": "jupyter-matplotlib",
      "model_module_version": "^0.9.0",
      "model_name": "MPLCanvasModel",
      "state": {
       "_cursor": "default",
       "_figure_label": "Figure 3",
       "_height": 480,
       "_width": 640,
       "layout": "IPY_MODEL_193fc9e6daa84a0088356c6c26db8a0b",
       "toolbar": "IPY_MODEL_bf043f4ab68f41a4ae2ef0c2664c3b9c",
       "toolbar_position": "left"
      }
     },
     "653a7705d6a04318b2e5c63c64ffbf04": {
      "model_module": "jupyter-matplotlib",
      "model_module_version": "^0.9.0",
      "model_name": "ToolbarModel",
      "state": {
       "layout": "IPY_MODEL_23d077d3a86740038e494bdce7917590",
       "toolitems": [
        [
         "Home",
         "Reset original view",
         "home",
         "home"
        ],
        [
         "Back",
         "Back to previous view",
         "arrow-left",
         "back"
        ],
        [
         "Forward",
         "Forward to next view",
         "arrow-right",
         "forward"
        ],
        [
         "Pan",
         "Left button pans, Right button zooms\nx/y fixes axis, CTRL fixes aspect",
         "arrows",
         "pan"
        ],
        [
         "Zoom",
         "Zoom to rectangle\nx/y fixes axis, CTRL fixes aspect",
         "square-o",
         "zoom"
        ],
        [
         "Download",
         "Download plot",
         "floppy-o",
         "save_figure"
        ]
       ]
      }
     },
     "73baa9d659a7496a8e6e7adb7ec3bc44": {
      "model_module": "@jupyter-widgets/base",
      "model_module_version": "1.2.0",
      "model_name": "LayoutModel",
      "state": {}
     },
     "73cd5da222694732bbd377b815ba40fa": {
      "model_module": "jupyter-matplotlib",
      "model_module_version": "^0.9.0",
      "model_name": "ToolbarModel",
      "state": {
       "layout": "IPY_MODEL_220566d904c1474b9b57f203cbbe6520",
       "toolitems": [
        [
         "Home",
         "Reset original view",
         "home",
         "home"
        ],
        [
         "Back",
         "Back to previous view",
         "arrow-left",
         "back"
        ],
        [
         "Forward",
         "Forward to next view",
         "arrow-right",
         "forward"
        ],
        [
         "Pan",
         "Left button pans, Right button zooms\nx/y fixes axis, CTRL fixes aspect",
         "arrows",
         "pan"
        ],
        [
         "Zoom",
         "Zoom to rectangle\nx/y fixes axis, CTRL fixes aspect",
         "square-o",
         "zoom"
        ],
        [
         "Download",
         "Download plot",
         "floppy-o",
         "save_figure"
        ]
       ]
      }
     },
     "bf043f4ab68f41a4ae2ef0c2664c3b9c": {
      "model_module": "jupyter-matplotlib",
      "model_module_version": "^0.9.0",
      "model_name": "ToolbarModel",
      "state": {
       "layout": "IPY_MODEL_73baa9d659a7496a8e6e7adb7ec3bc44",
       "toolitems": [
        [
         "Home",
         "Reset original view",
         "home",
         "home"
        ],
        [
         "Back",
         "Back to previous view",
         "arrow-left",
         "back"
        ],
        [
         "Forward",
         "Forward to next view",
         "arrow-right",
         "forward"
        ],
        [
         "Pan",
         "Left button pans, Right button zooms\nx/y fixes axis, CTRL fixes aspect",
         "arrows",
         "pan"
        ],
        [
         "Zoom",
         "Zoom to rectangle\nx/y fixes axis, CTRL fixes aspect",
         "square-o",
         "zoom"
        ],
        [
         "Download",
         "Download plot",
         "floppy-o",
         "save_figure"
        ]
       ]
      }
     },
     "ca07a3c1925140678f302670e981f88b": {
      "model_module": "@jupyter-widgets/base",
      "model_module_version": "1.2.0",
      "model_name": "LayoutModel",
      "state": {}
     },
     "dbcdc7edcc894f259ed4e0340cc1706a": {
      "model_module": "jupyter-matplotlib",
      "model_module_version": "^0.9.0",
      "model_name": "MPLCanvasModel",
      "state": {
       "_cursor": "default",
       "_figure_label": "Figure 1",
       "_height": 300,
       "_width": 800,
       "layout": "IPY_MODEL_ca07a3c1925140678f302670e981f88b",
       "toolbar": "IPY_MODEL_73cd5da222694732bbd377b815ba40fa",
       "toolbar_position": "left"
      }
     }
    },
    "version_major": 2,
    "version_minor": 0
   }
  }
 },
 "nbformat": 4,
 "nbformat_minor": 5
}
